{
 "cells": [
  {
   "cell_type": "code",
   "execution_count": 1,
   "id": "ea0c695d-59a9-4098-9d3b-bc3de988c3d5",
   "metadata": {},
   "outputs": [],
   "source": [
    "### 1. Import the necessary libraries \n",
    "### Importieren Sie die notwendigen Bibliotheken "
   ]
  },
  {
   "cell_type": "code",
   "execution_count": 2,
   "id": "d40869ad-c059-4e34-b719-f3c865f7fd35",
   "metadata": {},
   "outputs": [],
   "source": [
    "import pandas as pd\n",
    "import numpy as np\n",
    "from sklearn.model_selection import cross_val_score, GridSearchCV\n",
    "from sklearn.model_selection import train_test_split\n",
    "from sklearn.metrics import mean_squared_error, mean_absolute_error, r2_score\n",
    "from sklearn.metrics import r2_score\n",
    "import warnings\n",
    "warnings.filterwarnings('ignore')\n"
   ]
  },
  {
   "cell_type": "code",
   "execution_count": 3,
   "id": "25a44f1f-2f4d-4ae1-8a7e-455f72bf24b4",
   "metadata": {},
   "outputs": [],
   "source": [
    "### 2 .Print first 5 row of the dataset\n",
    "### Geben Sie die ersten 5 Zeilen des Datensatzes aus."
   ]
  },
  {
   "cell_type": "code",
   "execution_count": null,
   "id": "5a1a4816-6a25-42d4-b67d-c55d55b6d73c",
   "metadata": {},
   "outputs": [],
   "source": []
  },
  {
   "cell_type": "code",
   "execution_count": null,
   "id": "ca84d49a-8551-4f55-b70f-46d8797c6a4b",
   "metadata": {},
   "outputs": [],
   "source": []
  },
  {
   "cell_type": "code",
   "execution_count": 4,
   "id": "8e1528fd-b529-4b0c-b940-757ab78e77b7",
   "metadata": {},
   "outputs": [],
   "source": [
    "### 1. Split the data into four pieces: train_x, test_x, train_y, and test_y . (The target value is the 'Salary')\n",
    "## Teilen Sie die Daten in vier Teile auf: train_x, test_x, train_y und test_y. ('Der Zielwert ist die 'Salary')"
   ]
  },
  {
   "cell_type": "code",
   "execution_count": null,
   "id": "f002a625-f166-40ef-aee3-f40454f1d6a8",
   "metadata": {},
   "outputs": [],
   "source": []
  },
  {
   "cell_type": "code",
   "execution_count": 5,
   "id": "34e869bf-5423-425d-9ec3-71a3bee0ca13",
   "metadata": {},
   "outputs": [],
   "source": [
    "### Train XGBoost with below parameters  model \n",
    "from xgboost import XGBRegressor "
   ]
  },
  {
   "cell_type": "code",
   "execution_count": 6,
   "id": "e3ad0829-3456-49ac-ae2b-e3f61c7fec15",
   "metadata": {},
   "outputs": [],
   "source": [
    "xgb_params = {\n",
    "    'n_estimators': 50,\n",
    "    'max_depth': 2,\n",
    "    'learning_rate': 0.1,\n",
    "    'subsample': 0.8\n",
    "}\n"
   ]
  },
  {
   "cell_type": "code",
   "execution_count": 7,
   "id": "27fdf10b-bc1a-4de0-8749-9d77148d7004",
   "metadata": {},
   "outputs": [],
   "source": [
    "### Activate the code below and look at the model's score ( use cross_val_score with 3  )\n",
    "### Aktiviere den unten stehenden Code und schaue dir die Punktzahl des Modells an (Verwende cross_val_score mit 3)"
   ]
  },
  {
   "cell_type": "code",
   "execution_count": 8,
   "id": "2cd4c07a-0936-4df6-a57b-57efe2a754eb",
   "metadata": {},
   "outputs": [
    {
     "ename": "NameError",
     "evalue": "name 'xgb_model' is not defined",
     "output_type": "error",
     "traceback": [
      "\u001b[1;31m---------------------------------------------------------------------------\u001b[0m",
      "\u001b[1;31mNameError\u001b[0m                                 Traceback (most recent call last)",
      "Cell \u001b[1;32mIn[8], line 1\u001b[0m\n\u001b[1;32m----> 1\u001b[0m xgb_cv_scores \u001b[38;5;241m=\u001b[39m cross_val_score(\u001b[43mxgb_model\u001b[49m, X_train, y_train, cv\u001b[38;5;241m=\u001b[39m\u001b[38;5;241m3\u001b[39m, scoring\u001b[38;5;241m=\u001b[39m\u001b[38;5;124m'\u001b[39m\u001b[38;5;124mr2\u001b[39m\u001b[38;5;124m'\u001b[39m)\n\u001b[0;32m      2\u001b[0m y_pred_xgb \u001b[38;5;241m=\u001b[39m xgb_model\u001b[38;5;241m.\u001b[39mpredict(X_test)\n\u001b[0;32m      3\u001b[0m mse_xgb \u001b[38;5;241m=\u001b[39m mean_squared_error(y_test, y_pred_xgb)\n",
      "\u001b[1;31mNameError\u001b[0m: name 'xgb_model' is not defined"
     ]
    }
   ],
   "source": [
    "xgb_cv_scores = cross_val_score(xgb_model, X_train, y_train, cv=3, scoring='r2')\n",
    "y_pred_xgb = xgb_model.predict(X_test)\n",
    "mse_xgb = mean_squared_error(y_test, y_pred_xgb)\n",
    "xgb_train_score = xgb_model.score(X_train, y_train)\n",
    "xgb_test_score = xgb_model.score(X_test, y_test)\n",
    "mae = mean_absolute_error(y_test, y_pred_xgb)"
   ]
  },
  {
   "cell_type": "code",
   "execution_count": null,
   "id": "72c67c20-fcfd-4ca6-ac2d-2b70c0bf0960",
   "metadata": {},
   "outputs": [],
   "source": [
    "print(f\"XGBRegressor Cross-Validation Scores: {xgb_cv_scores}\")\n",
    "print(f\"XGBRegressor Mean CV R^2 Score: {xgb_cv_scores.mean()}\")\n",
    "print(f\"XGBRegressor Train R^2 Score: {xgb_train_score}\")\n",
    "print(f\"XGBRegressor Test R^2 Score: {xgb_test_score}\")\n",
    "print(f\"XGBRegressor  Test Mean Squared Error (MSE): {mse_xgb}\")\n",
    "print(f\"XGBRegressor Test Root Mean Squared Error (RMSE): {np.sqrt(mse_xgb)}\")\n",
    "print(f\"XGBRegressor Test Mean Absolute Error  (mae): {mae}\")"
   ]
  },
  {
   "cell_type": "code",
   "execution_count": null,
   "id": "d1967c97-0c83-4746-8162-5f86ecaa9300",
   "metadata": {},
   "outputs": [],
   "source": [
    "### Train the model with CatBoostRegressor, using the parameters below.\n",
    "### Trainiere das Modell mit CatBoostRegressor unter Verwendung der untenstehenden Parameter."
   ]
  },
  {
   "cell_type": "code",
   "execution_count": null,
   "id": "a103255d-f5b6-41c4-91de-8d71416ef7b1",
   "metadata": {},
   "outputs": [],
   "source": [
    "from catboost import CatBoostRegressor"
   ]
  },
  {
   "cell_type": "code",
   "execution_count": null,
   "id": "208b8e88-9e2e-4ce2-b383-5e2bbc8dfa0e",
   "metadata": {},
   "outputs": [],
   "source": [
    "cat_params = {\n",
    "    'iterations': 50,\n",
    "    'depth': 2,\n",
    "    'learning_rate': 0.1,\n",
    "    'verbose': False\n",
    "}"
   ]
  },
  {
   "cell_type": "code",
   "execution_count": null,
   "id": "3265343f-37ab-48db-be54-6737256fecab",
   "metadata": {},
   "outputs": [],
   "source": [
    "### Check the model's scores\n",
    "###Überprüfe die Punktzahlen des Modells."
   ]
  },
  {
   "cell_type": "code",
   "execution_count": null,
   "id": "d9172db6-96ff-4a15-a0b3-0e9392b7f534",
   "metadata": {},
   "outputs": [],
   "source": []
  },
  {
   "cell_type": "code",
   "execution_count": null,
   "id": "376b680d-7836-4fd8-b2ad-3ed2b9e65b73",
   "metadata": {},
   "outputs": [],
   "source": []
  }
 ],
 "metadata": {
  "kernelspec": {
   "display_name": "Python 3 (ipykernel)",
   "language": "python",
   "name": "python3"
  },
  "language_info": {
   "codemirror_mode": {
    "name": "ipython",
    "version": 3
   },
   "file_extension": ".py",
   "mimetype": "text/x-python",
   "name": "python",
   "nbconvert_exporter": "python",
   "pygments_lexer": "ipython3",
   "version": "3.11.5"
  }
 },
 "nbformat": 4,
 "nbformat_minor": 5
}
