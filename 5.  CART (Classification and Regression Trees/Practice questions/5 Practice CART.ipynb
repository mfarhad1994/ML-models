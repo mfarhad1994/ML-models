{
 "cells": [
  {
   "cell_type": "markdown",
   "id": "49b775c0-298c-4ba6-9c35-88e46ef85320",
   "metadata": {},
   "source": [
    "# Part 1 "
   ]
  },
  {
   "cell_type": "code",
   "execution_count": 1,
   "id": "a18c65fb-b63c-4b9c-aa48-cfd69b116c93",
   "metadata": {},
   "outputs": [],
   "source": [
    "### use the funtion \n",
    "from mymodule import check_df, find_categorical_columns, binary_columns_find"
   ]
  },
  {
   "cell_type": "code",
   "execution_count": 2,
   "id": "ea0c695d-59a9-4098-9d3b-bc3de988c3d5",
   "metadata": {},
   "outputs": [],
   "source": [
    "### 1. Import the necessary libraries \n",
    "### Importieren Sie die notwendigen Bibliotheken "
   ]
  },
  {
   "cell_type": "code",
   "execution_count": 3,
   "id": "d40869ad-c059-4e34-b719-f3c865f7fd35",
   "metadata": {},
   "outputs": [],
   "source": [
    "import pandas as pd\n",
    "from sklearn.preprocessing import LabelEncoder\n",
    "import matplotlib.pyplot as plt\n",
    "import seaborn as sns\n",
    "import numpy as np\n",
    "from sklearn.model_selection import cross_val_score, GridSearchCV, validation_curve\n",
    "from sklearn.inspection import permutation_importance\n",
    "from sklearn.model_selection import train_test_split\n",
    "from sklearn.tree import DecisionTreeRegressor\n",
    "from sklearn.metrics import mean_squared_error\n",
    "from sklearn.metrics import r2_score\n",
    "import warnings\n",
    "warnings.filterwarnings('ignore')\n"
   ]
  },
  {
   "cell_type": "code",
   "execution_count": 4,
   "id": "25a44f1f-2f4d-4ae1-8a7e-455f72bf24b4",
   "metadata": {},
   "outputs": [],
   "source": [
    "### 2 .Print first 5 row of the dataset\n",
    "### Geben Sie die ersten 5 Zeilen des Datensatzes aus."
   ]
  },
  {
   "cell_type": "code",
   "execution_count": null,
   "id": "24c301e6-f3e4-4e3f-a70b-a0cd91508fcd",
   "metadata": {},
   "outputs": [],
   "source": [
    "\n"
   ]
  },
  {
   "cell_type": "code",
   "execution_count": null,
   "id": "ca402d81-2554-4437-8fba-745af9e12bec",
   "metadata": {},
   "outputs": [],
   "source": []
  },
  {
   "cell_type": "code",
   "execution_count": 5,
   "id": "a9191c45-9dc0-4dd6-a054-cffa17f302ce",
   "metadata": {},
   "outputs": [],
   "source": [
    "## 3 .Use the check_df function to analyze the dataset\n",
    "###Verwenden Sie die Funktion check_df, um den Datensatz zu analysieren"
   ]
  },
  {
   "cell_type": "code",
   "execution_count": null,
   "id": "9c637886-f677-48e7-8413-70e4180e1234",
   "metadata": {},
   "outputs": [],
   "source": []
  },
  {
   "cell_type": "code",
   "execution_count": 6,
   "id": "49b1a195-7949-45a0-b14c-9b9af02dccdb",
   "metadata": {},
   "outputs": [],
   "source": [
    "### 2.Activate the code below and analyze the distribution\n",
    "### Aktivieren Sie den folgenden Code und analysieren Sie die Verteilung."
   ]
  },
  {
   "cell_type": "code",
   "execution_count": 7,
   "id": "f2bd8309-1f53-4a65-96a9-c2821404688d",
   "metadata": {},
   "outputs": [
    {
     "ename": "NameError",
     "evalue": "name 'df' is not defined",
     "output_type": "error",
     "traceback": [
      "\u001b[1;31m---------------------------------------------------------------------------\u001b[0m",
      "\u001b[1;31mNameError\u001b[0m                                 Traceback (most recent call last)",
      "Cell \u001b[1;32mIn[7], line 2\u001b[0m\n\u001b[0;32m      1\u001b[0m plt\u001b[38;5;241m.\u001b[39mfigure(figsize\u001b[38;5;241m=\u001b[39m(\u001b[38;5;241m20\u001b[39m, \u001b[38;5;241m15\u001b[39m))\n\u001b[1;32m----> 2\u001b[0m \u001b[38;5;28;01mfor\u001b[39;00m i, column \u001b[38;5;129;01min\u001b[39;00m \u001b[38;5;28menumerate\u001b[39m(\u001b[43mdf\u001b[49m\u001b[38;5;241m.\u001b[39mcolumns, \u001b[38;5;241m1\u001b[39m):\n\u001b[0;32m      3\u001b[0m     plt\u001b[38;5;241m.\u001b[39msubplot(\u001b[38;5;241m4\u001b[39m, \u001b[38;5;241m3\u001b[39m, i)\n\u001b[0;32m      4\u001b[0m     sns\u001b[38;5;241m.\u001b[39mhistplot(df[column], kde\u001b[38;5;241m=\u001b[39m\u001b[38;5;28;01mTrue\u001b[39;00m, bins\u001b[38;5;241m=\u001b[39m\u001b[38;5;241m10\u001b[39m)\n",
      "\u001b[1;31mNameError\u001b[0m: name 'df' is not defined"
     ]
    },
    {
     "data": {
      "text/plain": [
       "<Figure size 2000x1500 with 0 Axes>"
      ]
     },
     "metadata": {},
     "output_type": "display_data"
    }
   ],
   "source": [
    "plt.figure(figsize=(20, 15))\n",
    "for i, column in enumerate(df.columns, 1):\n",
    "    plt.subplot(4, 3, i)\n",
    "    sns.histplot(df[column], kde=True, bins=10)\n",
    "    plt.title(column)\n",
    "plt.tight_layout()\n",
    "plt.show()"
   ]
  },
  {
   "cell_type": "code",
   "execution_count": null,
   "id": "2d97d0c2-37ca-4711-b9ea-4f3c74980136",
   "metadata": {},
   "outputs": [],
   "source": [
    "### Find the correlation between Salary and years of experience using the corr method\n",
    "## Finden Sie die Korrelation zwischen Gehalt  und Berufsjahren mit der Methode corr"
   ]
  },
  {
   "cell_type": "code",
   "execution_count": null,
   "id": "07c71c08-2b27-4216-b7d1-16958f864756",
   "metadata": {},
   "outputs": [],
   "source": []
  },
  {
   "cell_type": "code",
   "execution_count": null,
   "id": "8cc824c0-c602-4fd9-b238-22a1ec543361",
   "metadata": {},
   "outputs": [],
   "source": [
    "\n",
    "### Analyze the correlation between two columns visually\n",
    "### Analysieren Sie die Korrelation zwischen zwei Spalten visuell."
   ]
  },
  {
   "cell_type": "code",
   "execution_count": null,
   "id": "bb8cb80a-0ef3-404a-9cdf-f6dfcf49e457",
   "metadata": {},
   "outputs": [],
   "source": []
  },
  {
   "cell_type": "code",
   "execution_count": null,
   "id": "aacbe044-2e5d-4d63-881e-882386bc5d64",
   "metadata": {},
   "outputs": [],
   "source": [
    "###  Visually find the outliers in the 'Experience Years' using a boxplot.\n",
    "### Finden Sie visuell die Ausreißer in den 'Berufsjahren' mit einem Boxplot"
   ]
  },
  {
   "cell_type": "code",
   "execution_count": null,
   "id": "edbc6433-d9bf-42c4-9601-808da6da8247",
   "metadata": {},
   "outputs": [],
   "source": []
  },
  {
   "cell_type": "code",
   "execution_count": null,
   "id": "c1f5bf1a-5712-4339-8876-ee03902d8325",
   "metadata": {},
   "outputs": [],
   "source": [
    "### Calculate the mean and median salary.\n",
    "### Berechnen Sie das Durchschnitts- und Median-Gehalt."
   ]
  },
  {
   "cell_type": "code",
   "execution_count": null,
   "id": "72622c8f-e062-4a90-a7db-a3813d5f4968",
   "metadata": {},
   "outputs": [],
   "source": []
  },
  {
   "cell_type": "markdown",
   "id": "dc050608-c943-422d-9d93-41fa0a5fb1a6",
   "metadata": {},
   "source": [
    "# Part  2"
   ]
  },
  {
   "cell_type": "code",
   "execution_count": null,
   "id": "8e1528fd-b529-4b0c-b940-757ab78e77b7",
   "metadata": {},
   "outputs": [],
   "source": [
    "### 1. Split the data into four pieces: train_x, test_x, train_y, and test_y . (The target value is the 'Salary')\n",
    "## Teilen Sie die Daten in vier Teile auf: train_x, test_x, train_y und test_y. ('Der Zielwert ist die 'Salary')"
   ]
  },
  {
   "cell_type": "code",
   "execution_count": null,
   "id": "f002a625-f166-40ef-aee3-f40454f1d6a8",
   "metadata": {},
   "outputs": [],
   "source": []
  },
  {
   "cell_type": "code",
   "execution_count": null,
   "id": "34e869bf-5423-425d-9ec3-71a3bee0ca13",
   "metadata": {},
   "outputs": [],
   "source": [
    "### Train  the model\n"
   ]
  },
  {
   "cell_type": "code",
   "execution_count": null,
   "id": "788c0f52-5d9d-4d38-920b-93bfcf12ab1e",
   "metadata": {},
   "outputs": [],
   "source": [
    "## Analyze the parameter that you can arrange.\n",
    "## Analysieren Sie den Parameter, den Sie anordnen können\n",
    "model.get_params()"
   ]
  },
  {
   "cell_type": "code",
   "execution_count": null,
   "id": "4e5461f1-cf90-49b6-b4ba-8e1497be4da4",
   "metadata": {},
   "outputs": [],
   "source": [
    "### Analyze how scores change with max_depth in the range of 1 to 30 and find the best value for the model.\n",
    "## Analysieren Sie, wie sich die Werte mit der maximalen Tiefe im Bereich von 1 bis 30 ändern, und finden Sie den besten Wert für das Model"
   ]
  },
  {
   "cell_type": "code",
   "execution_count": null,
   "id": "a3d913ff-e754-4db0-9d8e-bb41fd38eed6",
   "metadata": {},
   "outputs": [],
   "source": []
  },
  {
   "cell_type": "code",
   "execution_count": null,
   "id": "f3774d7a-ba17-4002-902d-98ae2124adef",
   "metadata": {},
   "outputs": [],
   "source": [
    "### Activate the code and analyze how the model's score changes with different values of min_samples_split.\n",
    "### Aktivieren Sie den Code und analysieren Sie, wie sich die Punktzahl des Modells mit verschiedenen Werten von min_samples_split ändert\n",
    "\n",
    "min_samples_split_values = np.arange(2, 50)\n",
    "train_scores, test_scores = [], []\n",
    "for min_samples_split in min_samples_split_values:\n",
    "    dtree = DecisionTreeRegressor(min_samples_split=min_samples_split, random_state=99)\n",
    "    train_score = np.mean(cross_val_score(dtree, X_train, y_train, scoring='r2', cv=3))\n",
    "    train_scores.append(train_score)\n",
    "    test_score = np.mean(cross_val_score(dtree, X_test, y_test, scoring='r2', cv=3))\n",
    "    test_scores.append(test_score)\n",
    "plt.figure(figsize=(10, 6))\n",
    "plt.plot(min_samples_split_values, train_scores, label='Training Score', marker='o')\n",
    "plt.plot(min_samples_split_values, test_scores, label='Test Score', marker='o')\n",
    "plt.title('Model Score vs. Min Samples Split')\n",
    "plt.xlabel('Min Samples Split')\n",
    "plt.ylabel('Model Score (R^2)')\n",
    "plt.legend()\n",
    "plt.grid(True)\n",
    "plt.show()"
   ]
  },
  {
   "cell_type": "code",
   "execution_count": null,
   "id": "4350085d-d371-42e4-81da-d2085e0078d8",
   "metadata": {},
   "outputs": [],
   "source": [
    "### Train the model using a max_depth range of 1 to 5 and a min_samples_split range from 2 to 30\n",
    "### Trainieren Sie das Modell mit einem max_depth-Bereich von 1 bis 5 und einem min_samples_split-Bereich von 2 bis 30"
   ]
  },
  {
   "cell_type": "code",
   "execution_count": null,
   "id": "d023861c-53d3-4f4f-accd-71338fc7a1d4",
   "metadata": {},
   "outputs": [],
   "source": [
    "dtree = DecisionTreeRegressor(random_state=99)\n",
    "param_grid = {\n",
    "    'max_depth': ?  ,\n",
    "    'min_samples_split': ?,\n",
    "}\n",
    "grid_search = GridSearchCV(dtree, param_grid, cv=5, scoring='r2', verbose=1)\n",
    "grid_search.fit(X_train, y_train)"
   ]
  },
  {
   "cell_type": "code",
   "execution_count": null,
   "id": "c3431e8b-18b4-42aa-b061-4a693a732e19",
   "metadata": {},
   "outputs": [],
   "source": [
    "best_dtree = grid_search.best_estimator_\n",
    "print(\"Best parameters:\", grid_search.best_params_)"
   ]
  },
  {
   "cell_type": "code",
   "execution_count": null,
   "id": "928f9859-5b16-456f-abb3-781254b3ceeb",
   "metadata": {},
   "outputs": [],
   "source": [
    "### Check the model's score on the training dataset.\n",
    "### Überprüfen Sie die Punktzahl des Modells auf dem Trainingsdatensatz."
   ]
  },
  {
   "cell_type": "code",
   "execution_count": null,
   "id": "341c3ff5-4afa-4379-ac37-93420fb4171c",
   "metadata": {},
   "outputs": [],
   "source": []
  },
  {
   "cell_type": "code",
   "execution_count": null,
   "id": "c8cee150-fb95-489a-ac3d-bda9d0e0ebc8",
   "metadata": {},
   "outputs": [],
   "source": [
    "### Check the model's score on the training dataset\n",
    "### Überprüfen Sie die Punktzahl des Modells auf dem Trainingsdatensatz.\""
   ]
  },
  {
   "cell_type": "code",
   "execution_count": null,
   "id": "29041e1e-da69-414e-b198-dcba3798d90a",
   "metadata": {},
   "outputs": [],
   "source": []
  },
  {
   "cell_type": "code",
   "execution_count": null,
   "id": "0b563bbf-a37b-48fd-ab19-3677ba551591",
   "metadata": {},
   "outputs": [],
   "source": [
    "### Print the decision tree and discuss the split points in groups\n",
    "### Drucken Sie den Entscheidungsbaum und diskutieren Sie die Aufteilungspunkte in Gruppen"
   ]
  },
  {
   "cell_type": "code",
   "execution_count": null,
   "id": "91462555-3834-4a25-b262-98af3dd266d9",
   "metadata": {},
   "outputs": [],
   "source": [
    "\n",
    "from sklearn.tree import plot_tree\n"
   ]
  }
 ],
 "metadata": {
  "kernelspec": {
   "display_name": "Python 3 (ipykernel)",
   "language": "python",
   "name": "python3"
  },
  "language_info": {
   "codemirror_mode": {
    "name": "ipython",
    "version": 3
   },
   "file_extension": ".py",
   "mimetype": "text/x-python",
   "name": "python",
   "nbconvert_exporter": "python",
   "pygments_lexer": "ipython3",
   "version": "3.11.5"
  }
 },
 "nbformat": 4,
 "nbformat_minor": 5
}
