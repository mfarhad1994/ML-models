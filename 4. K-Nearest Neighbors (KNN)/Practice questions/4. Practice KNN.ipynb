{
 "cells": [
  {
   "cell_type": "markdown",
   "id": "cd3a5bd1-8a8b-4caf-8bc0-1a989b2c456e",
   "metadata": {},
   "source": [
    "# Part 1 "
   ]
  },
  {
   "cell_type": "code",
   "execution_count": 1,
   "id": "f4ecea4b-16c2-481e-868c-e895fd819f95",
   "metadata": {},
   "outputs": [],
   "source": [
    "## 1. Import the necessary libraries (Importieren Sie die notwendigen Bibliotheken )"
   ]
  },
  {
   "cell_type": "code",
   "execution_count": 2,
   "id": "48a7268b-92a0-4689-9065-561c4123ef29",
   "metadata": {},
   "outputs": [],
   "source": [
    "### Disable the Python warnings\n",
    "### Deaktivieren Sie die Python-Warnungen\n",
    "import warnings\n",
    "warnings.filterwarnings('ignore')"
   ]
  },
  {
   "cell_type": "code",
   "execution_count": 3,
   "id": "2822c0a7-744e-424f-995b-9f19f33bae63",
   "metadata": {},
   "outputs": [],
   "source": [
    "import pandas as pd\n",
    "import seaborn as sns\n",
    "import numpy as np\n",
    "import matplotlib.pyplot as plt\n",
    "from sklearn.model_selection import train_test_split\n",
    "\n",
    "from sklearn.metrics import classification_report, confusion_matrix\n",
    "from sklearn.metrics import accuracy_score\n",
    "from sklearn.preprocessing import RobustScaler\n",
    "from sklearn.preprocessing import StandardScaler\n",
    "from sklearn.feature_selection import RFECV\n",
    "import joblib\n",
    "from sklearn.metrics import (\n",
    "    accuracy_score, precision_score, recall_score, f1_score, \n",
    "    roc_auc_score, classification_report, make_scorer\n",
    ")\n",
    "from sklearn.metrics import roc_curve, auc"
   ]
  },
  {
   "cell_type": "code",
   "execution_count": 4,
   "id": "02b67c71-1c05-4332-9575-3d5bc68c6699",
   "metadata": {},
   "outputs": [],
   "source": [
    "### 2.Print first 5 row of the dataset (Geben Sie die ersten 10 Zeilen des Datensatzes aus.)\n"
   ]
  },
  {
   "cell_type": "code",
   "execution_count": 5,
   "id": "ae9756fc-57d6-4c5f-a61d-d30b8ce9ac1d",
   "metadata": {},
   "outputs": [],
   "source": [
    "### 3. The 'Survived' column is the target column.\n",
    "### Die Spalte 'Survived' ist die Zielvariable."
   ]
  },
  {
   "cell_type": "markdown",
   "id": "91681e47-670c-49e4-8655-6549ecfeb94c",
   "metadata": {},
   "source": [
    "## KNN model training "
   ]
  },
  {
   "cell_type": "code",
   "execution_count": 6,
   "id": "9e8babe4-f33d-46f6-a567-8c96588daa2e",
   "metadata": {},
   "outputs": [],
   "source": [
    "### 1. Split the data into four pieces: train_x, test_x, train_y, and test_y . (The target value is the 'Survived')\n",
    "## Teilen Sie die Daten in vier Teile auf: train_x, test_x, train_y und test_y. ('Der Zielwert ist die 'Survived')"
   ]
  },
  {
   "cell_type": "code",
   "execution_count": 7,
   "id": "cde5cf09-37da-44d5-8148-b65866289057",
   "metadata": {},
   "outputs": [],
   "source": [
    "from sklearn.model_selection import train_test_split\n"
   ]
  },
  {
   "cell_type": "code",
   "execution_count": 8,
   "id": "fcfef3bb-bb3d-417d-b3bb-aadad249c5b9",
   "metadata": {},
   "outputs": [],
   "source": [
    "### 2 Activate the code below and analyze the values of the 'Survived' column\n",
    "### Aktivieren Sie den untenstehenden Code und analysieren Sie die Werte der Spalte 'Survived'\n"
   ]
  },
  {
   "cell_type": "code",
   "execution_count": 9,
   "id": "cfadefea-7333-4edb-a7c7-637d0ef84afa",
   "metadata": {},
   "outputs": [
    {
     "ename": "NameError",
     "evalue": "name 'y_train' is not defined",
     "output_type": "error",
     "traceback": [
      "\u001b[1;31m---------------------------------------------------------------------------\u001b[0m",
      "\u001b[1;31mNameError\u001b[0m                                 Traceback (most recent call last)",
      "Cell \u001b[1;32mIn[9], line 1\u001b[0m\n\u001b[1;32m----> 1\u001b[0m outcome_counts \u001b[38;5;241m=\u001b[39m \u001b[43my_train\u001b[49m[\u001b[38;5;124m'\u001b[39m\u001b[38;5;124msurvived\u001b[39m\u001b[38;5;124m'\u001b[39m]\u001b[38;5;241m.\u001b[39mvalue_counts()\n\u001b[0;32m      2\u001b[0m plt\u001b[38;5;241m.\u001b[39mfigure(figsize\u001b[38;5;241m=\u001b[39m(\u001b[38;5;241m8\u001b[39m, \u001b[38;5;241m6\u001b[39m))\n\u001b[0;32m      3\u001b[0m sns\u001b[38;5;241m.\u001b[39mbarplot(x\u001b[38;5;241m=\u001b[39moutcome_counts\u001b[38;5;241m.\u001b[39mindex, y\u001b[38;5;241m=\u001b[39moutcome_counts\u001b[38;5;241m.\u001b[39mvalues)\n",
      "\u001b[1;31mNameError\u001b[0m: name 'y_train' is not defined"
     ]
    }
   ],
   "source": [
    "outcome_counts = y_train['survived'].value_counts()\n",
    "plt.figure(figsize=(8, 6))\n",
    "sns.barplot(x=outcome_counts.index, y=outcome_counts.values)\n",
    "plt.title('Distribution of survived Outcomes')\n",
    "plt.xlabel('survived')\n",
    "plt.ylabel('Count')\n",
    "plt.xticks([0, 1], [ 'Not survived  (0)', 'survived (1)'])\n",
    "plt.show()"
   ]
  },
  {
   "cell_type": "code",
   "execution_count": null,
   "id": "004bd940-30d2-4cf2-a43b-b497128f0483",
   "metadata": {},
   "outputs": [],
   "source": [
    "### 3. Use the SMOTE library to balance the 'Survived' column\n",
    "### Verwenden Sie die SMOTE-Bibliothek, um die Spalte 'Survived' auszugleichen.\n",
    "from imblearn.over_sampling import SMOTE"
   ]
  },
  {
   "cell_type": "code",
   "execution_count": null,
   "id": "06d15f23-b469-4f25-b822-bb2baaee3ea6",
   "metadata": {},
   "outputs": [],
   "source": []
  },
  {
   "cell_type": "code",
   "execution_count": null,
   "id": "399ecf82-24c2-43c1-ba85-46a7d4ace1d0",
   "metadata": {},
   "outputs": [],
   "source": [
    "### Getting the Optimal Number of Clusters\n",
    "\n",
    "### 4. Use the GridSearchCV method to find the best parameters and train the model use (range(1, 32) , cv 5 )\n",
    "### Verwenden Sie die Methode GridSearchCV, um die besten Parameter zu finden und das Modell zu trainieren . Benutzt (range(1, 32) , cv 5  )"
   ]
  },
  {
   "cell_type": "code",
   "execution_count": null,
   "id": "e7e5278b-5496-4c27-b8e1-8c4d22d38549",
   "metadata": {},
   "outputs": [],
   "source": [
    "from sklearn.neighbors import KNeighborsClassifier\n",
    "from sklearn.model_selection import cross_val_score, GridSearchCV\n"
   ]
  },
  {
   "cell_type": "code",
   "execution_count": null,
   "id": "75b5fdc8-9a4a-43b9-811d-d971d753cb06",
   "metadata": {},
   "outputs": [],
   "source": []
  },
  {
   "cell_type": "code",
   "execution_count": null,
   "id": "4146c31f-dd20-4037-a298-c3728945ff94",
   "metadata": {},
   "outputs": [],
   "source": [
    "### 4. Look at the best K value visually.\n",
    "### Betrachten Sie den besten K-Wert visuell."
   ]
  },
  {
   "cell_type": "code",
   "execution_count": null,
   "id": "eeaeebc9-2a6f-4e1b-8d92-0b65cc6e2dc6",
   "metadata": {},
   "outputs": [],
   "source": []
  },
  {
   "cell_type": "code",
   "execution_count": null,
   "id": "c18d2529-a75b-4c55-9ffb-e6c63a37caff",
   "metadata": {},
   "outputs": [],
   "source": [
    "### Cross validation\n",
    "### Use the cross-validation method to analyze the machine learning model's score on the training dataset.\n",
    "###  Verwenden Sie die Kreuzvalidierungsmethode, um die Punktzahl des maschinellen Lernmodells auf dem Trainingsdatensatz zu analysieren"
   ]
  },
  {
   "cell_type": "code",
   "execution_count": null,
   "id": "3b46966a-0d92-4fa9-ac0d-906763109146",
   "metadata": {},
   "outputs": [],
   "source": []
  },
  {
   "cell_type": "code",
   "execution_count": null,
   "id": "6845bdf4-00a5-4aa4-a4b5-20cd4f52848f",
   "metadata": {},
   "outputs": [],
   "source": [
    "### 5.  Check the model's score on the test dataset\n",
    "### Überprüfen Sie die Punktzahl des Modells auf dem Testdatensatz"
   ]
  },
  {
   "cell_type": "code",
   "execution_count": null,
   "id": "259b5e80-9d75-4300-9cbf-e58779116140",
   "metadata": {},
   "outputs": [],
   "source": []
  },
  {
   "cell_type": "code",
   "execution_count": null,
   "id": "b4b7ae83-8109-4b9d-86e7-75442ab84286",
   "metadata": {},
   "outputs": [],
   "source": [
    "### Examine the confusion matrix and analyze where the model makes more mistakes\n",
    "###  Betrachten Sie die Verwechslungsmatrix und analysieren Sie, wo das Modell mehr Fehler macht"
   ]
  },
  {
   "cell_type": "code",
   "execution_count": null,
   "id": "7b293e06-1ac9-4db2-8cb6-59497f86a54b",
   "metadata": {},
   "outputs": [],
   "source": []
  },
  {
   "cell_type": "code",
   "execution_count": null,
   "id": "124f7d6c-fec0-480f-b731-b718ca7f7b6d",
   "metadata": {},
   "outputs": [],
   "source": [
    "### Use the permutation_importance function to analyze which information is important for making predictions.\n",
    "###  Verwenden Sie die Funktion zur permutation_importance, um zu analysieren, welche Informationen für die Vorhersage wichtig sind."
   ]
  },
  {
   "cell_type": "code",
   "execution_count": null,
   "id": "57892193-541c-498a-bf7d-8af93a4b6f9a",
   "metadata": {},
   "outputs": [],
   "source": []
  },
  {
   "cell_type": "code",
   "execution_count": null,
   "id": "a9946049-e599-4d4e-b692-3df53d127d12",
   "metadata": {},
   "outputs": [],
   "source": [
    "### Compare the result of KNN with Logistic Regression, and determine which one shows better performance for prediction.\n",
    "### Vergleichen Sie das Ergebnis von KNN mit der Logistischen Regression und bestimmen Sie, welches eine bessere Leistung für die Vorhersage zeigt.\n"
   ]
  }
 ],
 "metadata": {
  "kernelspec": {
   "display_name": "Python 3 (ipykernel)",
   "language": "python",
   "name": "python3"
  },
  "language_info": {
   "codemirror_mode": {
    "name": "ipython",
    "version": 3
   },
   "file_extension": ".py",
   "mimetype": "text/x-python",
   "name": "python",
   "nbconvert_exporter": "python",
   "pygments_lexer": "ipython3",
   "version": "3.11.5"
  }
 },
 "nbformat": 4,
 "nbformat_minor": 5
}
