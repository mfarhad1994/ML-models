{
 "cells": [
  {
   "cell_type": "markdown",
   "id": "cd3a5bd1-8a8b-4caf-8bc0-1a989b2c456e",
   "metadata": {},
   "source": [
    "# Part 1 "
   ]
  },
  {
   "cell_type": "code",
   "execution_count": 1,
   "id": "f4ecea4b-16c2-481e-868c-e895fd819f95",
   "metadata": {},
   "outputs": [],
   "source": [
    "## 1. Import the necessary libraries (Importieren Sie die notwendigen Bibliotheken )"
   ]
  },
  {
   "cell_type": "code",
   "execution_count": 2,
   "id": "48a7268b-92a0-4689-9065-561c4123ef29",
   "metadata": {},
   "outputs": [],
   "source": [
    "### Disable the Python warnings\n",
    "### Deaktivieren Sie die Python-Warnungen\n",
    "import warnings\n",
    "warnings.filterwarnings('ignore')"
   ]
  },
  {
   "cell_type": "code",
   "execution_count": 3,
   "id": "2822c0a7-744e-424f-995b-9f19f33bae63",
   "metadata": {},
   "outputs": [],
   "source": [
    "from sklearn.linear_model import LogisticRegression\n",
    "from sklearn.model_selection import cross_val_score, GridSearchCV\n",
    "import logging\n",
    "import pandas as pd\n",
    "import matplotlib.pyplot as plt\n",
    "import seaborn as sns\n",
    "import numpy as np\n",
    "from sklearn.metrics import roc_curve, auc\n",
    "\n",
    "from sklearn.metrics import (\n",
    "    accuracy_score, precision_score, recall_score, f1_score, \n",
    "    roc_auc_score, classification_report, make_scorer\n",
    ")\n",
    "from sklearn.metrics import confusion_matrix, ConfusionMatrixDisplay"
   ]
  },
  {
   "cell_type": "code",
   "execution_count": 4,
   "id": "02b67c71-1c05-4332-9575-3d5bc68c6699",
   "metadata": {},
   "outputs": [
    {
     "data": {
      "text/html": [
       "<div>\n",
       "<style scoped>\n",
       "    .dataframe tbody tr th:only-of-type {\n",
       "        vertical-align: middle;\n",
       "    }\n",
       "\n",
       "    .dataframe tbody tr th {\n",
       "        vertical-align: top;\n",
       "    }\n",
       "\n",
       "    .dataframe thead th {\n",
       "        text-align: right;\n",
       "    }\n",
       "</style>\n",
       "<table border=\"1\" class=\"dataframe\">\n",
       "  <thead>\n",
       "    <tr style=\"text-align: right;\">\n",
       "      <th></th>\n",
       "      <th>survived</th>\n",
       "      <th>pclass</th>\n",
       "      <th>sex</th>\n",
       "      <th>age</th>\n",
       "      <th>sibsp</th>\n",
       "      <th>parch</th>\n",
       "      <th>fare</th>\n",
       "      <th>alone</th>\n",
       "      <th>fare_category</th>\n",
       "      <th>embarked_0</th>\n",
       "      <th>...</th>\n",
       "      <th>who_1</th>\n",
       "      <th>who_2</th>\n",
       "      <th>deck_0</th>\n",
       "      <th>deck_1</th>\n",
       "      <th>deck_2</th>\n",
       "      <th>deck_3</th>\n",
       "      <th>deck_4</th>\n",
       "      <th>deck_5</th>\n",
       "      <th>deck_6</th>\n",
       "      <th>deck_7</th>\n",
       "    </tr>\n",
       "  </thead>\n",
       "  <tbody>\n",
       "    <tr>\n",
       "      <th>0</th>\n",
       "      <td>0</td>\n",
       "      <td>2</td>\n",
       "      <td>1</td>\n",
       "      <td>22</td>\n",
       "      <td>1</td>\n",
       "      <td>0</td>\n",
       "      <td>7</td>\n",
       "      <td>0</td>\n",
       "      <td>1</td>\n",
       "      <td>0</td>\n",
       "      <td>...</td>\n",
       "      <td>1</td>\n",
       "      <td>0</td>\n",
       "      <td>0</td>\n",
       "      <td>0</td>\n",
       "      <td>0</td>\n",
       "      <td>0</td>\n",
       "      <td>0</td>\n",
       "      <td>1</td>\n",
       "      <td>0</td>\n",
       "      <td>0</td>\n",
       "    </tr>\n",
       "    <tr>\n",
       "      <th>1</th>\n",
       "      <td>1</td>\n",
       "      <td>0</td>\n",
       "      <td>0</td>\n",
       "      <td>38</td>\n",
       "      <td>1</td>\n",
       "      <td>0</td>\n",
       "      <td>71</td>\n",
       "      <td>0</td>\n",
       "      <td>0</td>\n",
       "      <td>1</td>\n",
       "      <td>...</td>\n",
       "      <td>0</td>\n",
       "      <td>1</td>\n",
       "      <td>0</td>\n",
       "      <td>0</td>\n",
       "      <td>1</td>\n",
       "      <td>0</td>\n",
       "      <td>0</td>\n",
       "      <td>0</td>\n",
       "      <td>0</td>\n",
       "      <td>0</td>\n",
       "    </tr>\n",
       "    <tr>\n",
       "      <th>2</th>\n",
       "      <td>1</td>\n",
       "      <td>2</td>\n",
       "      <td>0</td>\n",
       "      <td>26</td>\n",
       "      <td>0</td>\n",
       "      <td>0</td>\n",
       "      <td>7</td>\n",
       "      <td>1</td>\n",
       "      <td>1</td>\n",
       "      <td>0</td>\n",
       "      <td>...</td>\n",
       "      <td>0</td>\n",
       "      <td>1</td>\n",
       "      <td>0</td>\n",
       "      <td>0</td>\n",
       "      <td>0</td>\n",
       "      <td>0</td>\n",
       "      <td>0</td>\n",
       "      <td>1</td>\n",
       "      <td>0</td>\n",
       "      <td>0</td>\n",
       "    </tr>\n",
       "    <tr>\n",
       "      <th>3</th>\n",
       "      <td>1</td>\n",
       "      <td>0</td>\n",
       "      <td>0</td>\n",
       "      <td>35</td>\n",
       "      <td>1</td>\n",
       "      <td>0</td>\n",
       "      <td>53</td>\n",
       "      <td>0</td>\n",
       "      <td>0</td>\n",
       "      <td>0</td>\n",
       "      <td>...</td>\n",
       "      <td>0</td>\n",
       "      <td>1</td>\n",
       "      <td>0</td>\n",
       "      <td>0</td>\n",
       "      <td>1</td>\n",
       "      <td>0</td>\n",
       "      <td>0</td>\n",
       "      <td>0</td>\n",
       "      <td>0</td>\n",
       "      <td>0</td>\n",
       "    </tr>\n",
       "    <tr>\n",
       "      <th>4</th>\n",
       "      <td>0</td>\n",
       "      <td>2</td>\n",
       "      <td>1</td>\n",
       "      <td>35</td>\n",
       "      <td>0</td>\n",
       "      <td>0</td>\n",
       "      <td>8</td>\n",
       "      <td>1</td>\n",
       "      <td>1</td>\n",
       "      <td>0</td>\n",
       "      <td>...</td>\n",
       "      <td>1</td>\n",
       "      <td>0</td>\n",
       "      <td>0</td>\n",
       "      <td>0</td>\n",
       "      <td>0</td>\n",
       "      <td>0</td>\n",
       "      <td>0</td>\n",
       "      <td>1</td>\n",
       "      <td>0</td>\n",
       "      <td>0</td>\n",
       "    </tr>\n",
       "  </tbody>\n",
       "</table>\n",
       "<p>5 rows × 23 columns</p>\n",
       "</div>"
      ],
      "text/plain": [
       "   survived  pclass  sex  age  sibsp  parch  fare  alone  fare_category  \\\n",
       "0         0       2    1   22      1      0     7      0              1   \n",
       "1         1       0    0   38      1      0    71      0              0   \n",
       "2         1       2    0   26      0      0     7      1              1   \n",
       "3         1       0    0   35      1      0    53      0              0   \n",
       "4         0       2    1   35      0      0     8      1              1   \n",
       "\n",
       "   embarked_0  ...  who_1  who_2  deck_0  deck_1  deck_2  deck_3  deck_4  \\\n",
       "0           0  ...      1      0       0       0       0       0       0   \n",
       "1           1  ...      0      1       0       0       1       0       0   \n",
       "2           0  ...      0      1       0       0       0       0       0   \n",
       "3           0  ...      0      1       0       0       1       0       0   \n",
       "4           0  ...      1      0       0       0       0       0       0   \n",
       "\n",
       "   deck_5  deck_6  deck_7  \n",
       "0       1       0       0  \n",
       "1       0       0       0  \n",
       "2       1       0       0  \n",
       "3       0       0       0  \n",
       "4       1       0       0  \n",
       "\n",
       "[5 rows x 23 columns]"
      ]
     },
     "execution_count": 4,
     "metadata": {},
     "output_type": "execute_result"
    }
   ],
   "source": [
    "### 2.Print first 5 row of the dataset (Geben Sie die ersten 10 Zeilen des Datensatzes aus.)\n",
    "df=pd.read_csv('clean_titanic.csv')\n",
    "df.head()"
   ]
  },
  {
   "cell_type": "code",
   "execution_count": 5,
   "id": "158bb7bd-2534-4e65-9952-f10c7d126759",
   "metadata": {},
   "outputs": [],
   "source": [
    "### 3. Print the names of the columns.\n",
    "### Drucken Sie die Namen der Spalten aus"
   ]
  },
  {
   "cell_type": "code",
   "execution_count": 6,
   "id": "45565e6c-b4f7-4f5f-ba99-bfacc9d169bf",
   "metadata": {},
   "outputs": [
    {
     "data": {
      "text/plain": [
       "Index(['survived', 'pclass', 'sex', 'age', 'sibsp', 'parch', 'fare', 'alone',\n",
       "       'fare_category', 'embarked_0', 'embarked_1', 'embarked_2', 'who_0',\n",
       "       'who_1', 'who_2', 'deck_0', 'deck_1', 'deck_2', 'deck_3', 'deck_4',\n",
       "       'deck_5', 'deck_6', 'deck_7'],\n",
       "      dtype='object')"
      ]
     },
     "execution_count": 6,
     "metadata": {},
     "output_type": "execute_result"
    }
   ],
   "source": [
    "df.columns"
   ]
  },
  {
   "cell_type": "code",
   "execution_count": 7,
   "id": "ae9756fc-57d6-4c5f-a61d-d30b8ce9ac1d",
   "metadata": {},
   "outputs": [],
   "source": [
    "### 4. The 'Survived' column is the target column.\n",
    "### Die Spalte 'Survived' ist die Zielvariable."
   ]
  },
  {
   "cell_type": "markdown",
   "id": "3feeb5aa-b20f-4faa-bf71-2127f5f8cfb7",
   "metadata": {},
   "source": [
    "# Part 2 "
   ]
  },
  {
   "cell_type": "markdown",
   "id": "b58621d5",
   "metadata": {},
   "source": [
    "### 1. Split the data into four pieces: train_x, test_x, train_y, and test_y . (The target value is the 'Survived')\n",
    "## Teilen Sie die Daten in vier Teile auf: train_x, test_x, train_y und test_y. ('Der Zielwert ist die 'Survived')"
   ]
  },
  {
   "cell_type": "code",
   "execution_count": 8,
   "id": "98146e5e-e9ae-40ef-927a-5fc8d34d0ced",
   "metadata": {},
   "outputs": [],
   "source": [
    "from sklearn.model_selection import train_test_split\n",
    "X = df.drop('survived', axis=1)\n",
    "y = df[[\"survived\"]]\n",
    "\n",
    "X_train, X_test, y_train, y_test = train_test_split(X, y, test_size=0.20, random_state=99)"
   ]
  },
  {
   "cell_type": "code",
   "execution_count": 9,
   "id": "9eb8676c-a9f2-428a-ac82-a6270a41929a",
   "metadata": {},
   "outputs": [],
   "source": [
    "column_names=X_train.columns"
   ]
  },
  {
   "cell_type": "code",
   "execution_count": 10,
   "id": "9b82ec75-46e4-409f-a509-0192b47c15ba",
   "metadata": {},
   "outputs": [],
   "source": [
    "### 1 Activate the code below and analyze the values of the 'Survived' column\n",
    "### Aktivieren Sie den untenstehenden Code und analysieren Sie die Werte der Spalte 'Survived'"
   ]
  },
  {
   "cell_type": "code",
   "execution_count": 11,
   "id": "2a8eb42b-bd91-4001-92b1-28887c379368",
   "metadata": {},
   "outputs": [
    {
     "data": {
      "image/png": "[encoded data removed]",
      "text/plain": [
       "<Figure size 800x600 with 1 Axes>"
      ]
     },
     "metadata": {},
     "output_type": "display_data"
    }
   ],
   "source": [
    "outcome_counts = y_train['survived'].value_counts()\n",
    "plt.figure(figsize=(8, 6))\n",
    "sns.barplot(x=outcome_counts.index, y=outcome_counts.values)\n",
    "plt.title('Distribution of survived Outcomes')\n",
    "plt.xlabel('survived')\n",
    "plt.ylabel('Count')\n",
    "plt.xticks([0, 1], [ 'Not survived  (0)', 'survived (1)'])\n",
    "plt.show()"
   ]
  },
  {
   "cell_type": "code",
   "execution_count": 12,
   "id": "f6cd85f7-947d-4de7-808e-00258f7f8b0a",
   "metadata": {},
   "outputs": [],
   "source": [
    "### Use the SMOTE library to balance the 'Survived' column\n",
    "### Verwenden Sie die SMOTE-Bibliothek, um die Spalte 'Survived' auszugleichen.\n",
    "from imblearn.over_sampling import SMOTE\n",
    "smote = SMOTE()\n",
    "X_train, y_train = smote.fit_resample(X_train, y_train)"
   ]
  },
  {
   "cell_type": "code",
   "execution_count": 13,
   "id": "39904941-bdf1-4fa6-83fe-1c550c6504f1",
   "metadata": {},
   "outputs": [],
   "source": [
    "### GridSearchCV\n",
    "### Use the GridSearchCV method to find the best parameters and train the model\n",
    "### Verwenden Sie die Methode GridSearchCV, um die besten Parameter zu finden und das Modell zu trainieren"
   ]
  },
  {
   "cell_type": "code",
   "execution_count": 14,
   "id": "e88c082d-f24f-4b52-99e5-61e09010fa01",
   "metadata": {},
   "outputs": [
    {
     "name": "stdout",
     "output_type": "stream",
     "text": [
      "Best Parameters: {'C': 0.1, 'penalty': 'l2'}\n"
     ]
    }
   ],
   "source": [
    "param_grid = {\n",
    "    'C': [0.001, 0.011, 0.01, 0.03, 0.05, 0.1,  0.2, 0.5,1, 10, 100, 500, 1000],\n",
    "    'penalty': ['l1', 'l2']\n",
    "}\n",
    "grid_search = GridSearchCV(LogisticRegression(), param_grid, cv=5, scoring='accuracy')\n",
    "grid_search.fit(X_train, y_train)\n",
    "\n",
    "best_lr = grid_search.best_estimator_\n",
    "print(\"Best Parameters:\", grid_search.best_params_)"
   ]
  },
  {
   "cell_type": "markdown",
   "id": "c3b77c3a-e58c-421e-a0d9-0819f8813d6c",
   "metadata": {},
   "source": [
    "# Part 3 "
   ]
  },
  {
   "cell_type": "code",
   "execution_count": 15,
   "id": "af23a857-966b-434b-b9fb-58f5700d7f84",
   "metadata": {},
   "outputs": [],
   "source": [
    "### Cross validation\n",
    "### Use the cross-validation method to analyze the machine learning model's score on the training dataset.\n",
    "###  Verwenden Sie die Kreuzvalidierungsmethode, um die Punktzahl des maschinellen Lernmodells auf dem Trainingsdatensatz zu analysieren"
   ]
  },
  {
   "cell_type": "code",
   "execution_count": 16,
   "id": "ef9d8b38-7322-4740-9809-9ac0c9125793",
   "metadata": {},
   "outputs": [
    {
     "name": "stdout",
     "output_type": "stream",
     "text": [
      "Training Set Evaluation Metrics:\n",
      "Accuracy: 0.8367\n",
      "Precision: 0.8508\n",
      "Recall: 0.8235\n",
      "F1: 0.8344\n",
      "Roc_auc: 0.8967\n"
     ]
    }
   ],
   "source": [
    "train_scores = {\n",
    "    'accuracy': cross_val_score(best_lr, X_train, y_train, cv=5, scoring='accuracy').mean(),\n",
    "    'precision': cross_val_score(best_lr, X_train, y_train, cv=5, scoring='precision').mean(),\n",
    "    'recall': cross_val_score(best_lr, X_train, y_train, cv=5, scoring='recall').mean(),\n",
    "    'f1': cross_val_score(best_lr, X_train, y_train, cv=5, scoring='f1').mean(),\n",
    "    'roc_auc': cross_val_score(best_lr, X_train, y_train, cv=5, scoring='roc_auc').mean()\n",
    "}\n",
    "print(\"Training Set Evaluation Metrics:\")\n",
    "for metric, score in train_scores.items():\n",
    "    print(f\"{metric.capitalize()}: {score:.4f}\")"
   ]
  },
  {
   "cell_type": "code",
   "execution_count": 17,
   "id": "ba94971d-9e0e-4507-be07-b6d4f5c786d6",
   "metadata": {},
   "outputs": [],
   "source": [
    "###  Check the model's score on the test dataset\n",
    "### Überprüfen Sie die Punktzahl des Modells auf dem Testdatensatz"
   ]
  },
  {
   "cell_type": "code",
   "execution_count": 18,
   "id": "796ea7ae-35b5-46d6-b008-539a35f4b582",
   "metadata": {},
   "outputs": [
    {
     "name": "stdout",
     "output_type": "stream",
     "text": [
      "\n",
      "Test Set Evaluation Metrics:\n",
      "Accuracy: 0.7753\n",
      "Precision: 0.7432\n",
      "Recall: 0.7237\n",
      "F1: 0.7333\n",
      "Roc_auc: 0.8237\n"
     ]
    }
   ],
   "source": [
    "y_pred = best_lr.predict(X_test)\n",
    "test_scores = {\n",
    "    'accuracy': accuracy_score(y_test, y_pred),\n",
    "    'precision': precision_score(y_test, y_pred),\n",
    "    'recall': recall_score(y_test, y_pred),\n",
    "    'f1': f1_score(y_test, y_pred),\n",
    "    'roc_auc': roc_auc_score(y_test, best_lr.predict_proba(X_test)[:, 1])\n",
    "}\n",
    "print(\"\\nTest Set Evaluation Metrics:\")\n",
    "for metric, score in test_scores.items():\n",
    "    print(f\"{metric.capitalize()}: {score:.4f}\")"
   ]
  },
  {
   "cell_type": "code",
   "execution_count": 19,
   "id": "360ea95e-8afb-43b9-b911-18220ba26e03",
   "metadata": {},
   "outputs": [],
   "source": [
    "### Examine the confusion matrix and analyze where the model makes more mistakes\n",
    "###  Betrachten Sie die Verwechslungsmatrix und analysieren Sie, wo das Modell mehr Fehler macht"
   ]
  },
  {
   "cell_type": "code",
   "execution_count": 20,
   "id": "2ea08203-fb6b-40cb-8976-811e74a33706",
   "metadata": {},
   "outputs": [
    {
     "data": {
      "image/png": "[encoded data removed]",
      "text/plain": [
       "<Figure size 1000x800 with 2 Axes>"
      ]
     },
     "metadata": {},
     "output_type": "display_data"
    }
   ],
   "source": [
    "# Compute confusion matrix\n",
    "cm_pred = confusion_matrix(y_test, y_pred)\n",
    "# Plotting the confusion matrix\n",
    "plt.figure(figsize=(10, 8))\n",
    "sns.heatmap(cm_pred, annot=True, fmt=\"d\", cmap=\"Blues\", xticklabels=[\"Negative\", \"Positive\"], yticklabels=[\"Negative\", \"Positive\"])\n",
    "plt.ylabel('Actual')\n",
    "plt.xlabel('Predicted')\n",
    "plt.title('Confusion Matrix')\n",
    "plt.show()  "
   ]
  },
  {
   "cell_type": "code",
   "execution_count": 21,
   "id": "c3d421ed-aec7-44fb-84e5-03e578ec72f1",
   "metadata": {},
   "outputs": [],
   "source": [
    "### Discuss in the group whether we should increase or decrease the threshold.\n",
    "### Diskutieren Sie in der Gruppe, ob wir den Schwellenwert erhöhen oder verringern sollten."
   ]
  },
  {
   "cell_type": "code",
   "execution_count": 22,
   "id": "d1a0cac2-2177-42cf-adb7-219f7bfc21a2",
   "metadata": {},
   "outputs": [
    {
     "name": "stdout",
     "output_type": "stream",
     "text": [
      "              precision    recall  f1-score   support\n",
      "\n",
      "           0       0.82      0.71      0.76       102\n",
      "           1       0.67      0.79      0.72        76\n",
      "\n",
      "    accuracy                           0.74       178\n",
      "   macro avg       0.74      0.75      0.74       178\n",
      "weighted avg       0.75      0.74      0.74       178\n",
      "\n"
     ]
    }
   ],
   "source": [
    "new_threshold = 0.4\n",
    "probabilities = best_lr.predict_proba(X_test)[:, 1] # Probabilities for the positive class\n",
    "new_predictions = (probabilities >= new_threshold).astype(int)\n",
    "print(classification_report(y_test, new_predictions))"
   ]
  },
  {
   "cell_type": "code",
   "execution_count": 23,
   "id": "f3d76c4f-8cbf-45a2-8dbb-b37e8c51a3a0",
   "metadata": {},
   "outputs": [],
   "source": [
    "### Use the permutation_importance function to analyze which information is important for making predictions.\n",
    "###  Verwenden Sie die Funktion zur permutation_importance, um zu analysieren, welche Informationen für die Vorhersage wichtig sind."
   ]
  },
  {
   "cell_type": "code",
   "execution_count": 25,
   "id": "27014e70-c3c0-4218-ae97-d18c61048913",
   "metadata": {},
   "outputs": [
    {
     "data": {
      "image/png": "[encoded data removed]",
      "text/plain": [
       "<Figure size 1000x1000 with 1 Axes>"
      ]
     },
     "metadata": {},
     "output_type": "display_data"
    }
   ],
   "source": [
    "from sklearn.inspection import permutation_importance\n",
    "perm_importance = permutation_importance(best_lr, X_test, y_test)\n",
    "sorted_idx = perm_importance.importances_mean.argsort()\n",
    "plt.figure(figsize=(10, 10))\n",
    "plt.barh(range(len(sorted_idx)), perm_importance.importances_mean[sorted_idx])\n",
    "plt.yticks(range(len(sorted_idx)), X.columns[sorted_idx])\n",
    "plt.xlabel(\"Permutation Importance\")\n",
    "plt.show()"
   ]
  }
 ],
 "metadata": {
  "kernelspec": {
   "display_name": "Python 3 (ipykernel)",
   "language": "python",
   "name": "python3"
  },
  "language_info": {
   "codemirror_mode": {
    "name": "ipython",
    "version": 3
   },
   "file_extension": ".py",
   "mimetype": "text/x-python",
   "name": "python",
   "nbconvert_exporter": "python",
   "pygments_lexer": "ipython3",
   "version": "3.11.5"
  }
 },
 "nbformat": 4,
 "nbformat_minor": 5
}
