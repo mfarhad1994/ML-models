{
 "cells": [
  {
   "cell_type": "code",
   "execution_count": null,
   "id": "a9476ab8-f325-43ae-ab78-209e78541999",
   "metadata": {},
   "outputs": [],
   "source": [
    "### 1. Import the necessary libraries (Importieren Sie die notwendigen Bibliotheken )"
   ]
  },
  {
   "cell_type": "code",
   "execution_count": 3,
   "id": "d40869ad-c059-4e34-b719-f3c865f7fd35",
   "metadata": {},
   "outputs": [],
   "source": [
    "\n"
   ]
  },
  {
   "cell_type": "code",
   "execution_count": null,
   "id": "25a44f1f-2f4d-4ae1-8a7e-455f72bf24b4",
   "metadata": {},
   "outputs": [],
   "source": [
    "### 2 .Print first 5 row of the dataset (Geben Sie die ersten 5 Zeilen des Datensatzes aus.)"
   ]
  },
  {
   "cell_type": "code",
   "execution_count": 4,
   "id": "24c301e6-f3e4-4e3f-a70b-a0cd91508fcd",
   "metadata": {},
   "outputs": [],
   "source": []
  },
  {
   "cell_type": "code",
   "execution_count": null,
   "id": "7fe8e262-db41-46ab-a3e2-229bb59d552a",
   "metadata": {},
   "outputs": [],
   "source": []
  },
  {
   "cell_type": "code",
   "execution_count": null,
   "id": "7454c224-5f62-4c43-bee5-0b229517a506",
   "metadata": {},
   "outputs": [],
   "source": [
    "### 2 .Print the name of  columns \n",
    "###  Drucken Sie den Namen der Spalten.\n"
   ]
  },
  {
   "cell_type": "code",
   "execution_count": null,
   "id": "2d97d0c2-37ca-4711-b9ea-4f3c74980136",
   "metadata": {},
   "outputs": [],
   "source": []
  },
  {
   "cell_type": "code",
   "execution_count": null,
   "id": "25076d01-c9c5-4225-9f5c-4b930e7858db",
   "metadata": {},
   "outputs": [],
   "source": [
    "### 3 Define the 'salary' column as X (the target value), and the other columns as y (the features). The train_size should be 70%.\n",
    "### Definieren Sie die Spalte 'Gehalt' als X (den Zielwert) und die anderen Spalten als y (die Merkmale). Der train_size sollte 70% betragen."
   ]
  },
  {
   "cell_type": "code",
   "execution_count": null,
   "id": "3945ca99-b470-4078-94fc-49fd3d6e05e3",
   "metadata": {},
   "outputs": [],
   "source": [
    "### complete the code  (Vervollständigen Sie den Code)\n",
    "X_train, X_test, y_train, y_test = \n",
    "\n"
   ]
  },
  {
   "cell_type": "code",
   "execution_count": null,
   "id": "0f5f0db9-1006-42a5-8dd4-222c44f57186",
   "metadata": {},
   "outputs": [],
   "source": [
    "### 4. Train the model in Linear Regression.\n",
    "### Trainieren Sie das Modell in linearer Regression\n",
    "model = LinearRegression()"
   ]
  },
  {
   "cell_type": "code",
   "execution_count": null,
   "id": "ce69d22b-abae-4396-b1dd-d96989fcc4c8",
   "metadata": {},
   "outputs": [],
   "source": [
    "### 5. Look at the intercept and coefficient values.\n",
    "### Betrachten Sie die Werte des Schnittpunkts und der Koeffizienten"
   ]
  },
  {
   "cell_type": "code",
   "execution_count": null,
   "id": "3821691b-e77b-483f-b433-9521bcd404dd",
   "metadata": {},
   "outputs": [],
   "source": []
  }
 ],
 "metadata": {
  "kernelspec": {
   "display_name": "Python 3 (ipykernel)",
   "language": "python",
   "name": "python3"
  },
  "language_info": {
   "codemirror_mode": {
    "name": "ipython",
    "version": 3
   },
   "file_extension": ".py",
   "mimetype": "text/x-python",
   "name": "python",
   "nbconvert_exporter": "python",
   "pygments_lexer": "ipython3",
   "version": "3.11.5"
  }
 },
 "nbformat": 4,
 "nbformat_minor": 5
}
