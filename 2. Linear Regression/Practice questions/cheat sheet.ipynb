{
 "cells": [
  {
   "cell_type": "code",
   "execution_count": null,
   "id": "6fd9eb29-1153-40ad-969f-03c68cc9e29b",
   "metadata": {},
   "outputs": [],
   "source": [
    "def check_df(dataframe, head=3):\n",
    "    print(\"##################### Shape #####################\")\n",
    "    print(dataframe.shape)\n",
    "    print(\"##################### Duplicate Values #####################\")\n",
    "    print(dataframe.duplicated().sum())\n",
    "    print(\"##################### Types #####################\")\n",
    "    print(dataframe.dtypes)\n",
    "    print(\"##################### Head #####################\")\n",
    "    print(dataframe.head(head))\n",
    "\n",
    "    print(\"##################### NA #####################\")\n",
    "    print(dataframe.isna().mean()*100)\n",
    "\n",
    "    print(\"##################### Unique Values #####################\")\n",
    "    print(dataframe.nunique())"
   ]
  },
  {
   "cell_type": "code",
   "execution_count": null,
   "id": "a42d128a-20c7-45c1-add6-8087d487f401",
   "metadata": {},
   "outputs": [],
   "source": [
    "def find_categorical_columns(df, max_unique_values=10, include_mixed_types=True):\n",
    "    categorical_cols = []\n",
    "    for col in df.columns:\n",
    "        dtype = str(df[col].dtypes)       \n",
    "        if dtype in [\"category\", \"object\", \"bool\"]:\n",
    "            categorical_cols.append(col)\n",
    "        elif include_mixed_types and pd.api.types.is_object_dtype(df[col]):\n",
    "            categorical_cols.append(col)\n",
    "        else:\n",
    "            num_unique_values = df[col].nunique(dropna=False)\n",
    "            if num_unique_values <= max_unique_values:\n",
    "                categorical_cols.append(col)\n",
    "\n",
    "    return categorical_cols\n",
    "\n",
    "categorical_columns = find_categorical_columns(df)"
   ]
  },
  {
   "cell_type": "code",
   "execution_count": null,
   "id": "fb97c73a-8a73-499f-a38f-796167e244b8",
   "metadata": {},
   "outputs": [],
   "source": [
    "\n",
    "def find_binary_columns(df, max_unique_values=2):\n",
    "    binary_cols = []\n",
    "    for col in df.columns:\n",
    "        num_unique_values = df[col].nunique(dropna=False)\n",
    "        if num_unique_values <= max_unique_values:\n",
    "            binary_cols.append(col)\n",
    "    return binary_cols\n",
    "binary_columns=find_binary_columns(df)\n",
    "binary_columns"
   ]
  },
  {
   "cell_type": "code",
   "execution_count": null,
   "id": "4bc0f0da-8964-4743-b987-922fe739732b",
   "metadata": {},
   "outputs": [],
   "source": [
    "numerical_columns = [col for col in df.columns if pd.api.types.is_numeric_dtype(df[col])]\n",
    "numerical_columns = [col for col in numerical_columns if col not in categorical_columns]\n",
    "numerical_columns"
   ]
  },
  {
   "cell_type": "code",
   "execution_count": null,
   "id": "ab890283-8971-447d-9aad-62374979bac4",
   "metadata": {},
   "outputs": [],
   "source": [
    "\n",
    "plt.figure(figsize=(15, 8))  \n",
    "correlation_matrix = df[numerical_columns+categorical_columns].corr(method='kendall')\n",
    "sns.heatmap(correlation_matrix, annot=True, cmap='coolwarm')\n",
    "plt.show()"
   ]
  }
 ],
 "metadata": {
  "kernelspec": {
   "display_name": "Python 3 (ipykernel)",
   "language": "python",
   "name": "python3"
  },
  "language_info": {
   "codemirror_mode": {
    "name": "ipython",
    "version": 3
   },
   "file_extension": ".py",
   "mimetype": "text/x-python",
   "name": "python",
   "nbconvert_exporter": "python",
   "pygments_lexer": "ipython3",
   "version": "3.11.5"
  }
 },
 "nbformat": 4,
 "nbformat_minor": 5
}
