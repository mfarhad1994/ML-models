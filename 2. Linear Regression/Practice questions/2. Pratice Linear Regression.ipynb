{
 "cells": [
  {
   "cell_type": "code",
   "execution_count": null,
   "id": "38dd3e72-95f0-4218-bbad-4a9e333b4056",
   "metadata": {},
   "outputs": [],
   "source": [
    "# Part 1 "
   ]
  },
  {
   "cell_type": "markdown",
   "id": "b8f1a07e-0363-406d-b9c5-abddcf163f89",
   "metadata": {},
   "source": [
    "| Column Name         | English Description                                 | German Description                                         |\n",
    "|---------------------|-----------------------------------------------------|------------------------------------------------------------|\n",
    "| Serial No           | Identifier for the application.                     | Kennzeichnung für die Bewerbung.                           |\n",
    "| GRE Score           | Score obtained in the Graduate Record Examinations. | Im Graduate Record Examinations erzielter Score.           |\n",
    "| TOEFL Score         | Score obtained in the Test of English as a Foreign Language. | Im Test of English as a Foreign Language erzielter Score. |\n",
    "| University Rating   | Rating of the university applied to, on a scale of 1 to 5. | Bewertung der angestrebten Universität, auf einer Skala von 1 bis 5. |\n",
    "| SOP                 | Statement of Purpose strength, on a scale of 1 to 5. | Stärke der Erklärung der Studienabsichten, auf einer Skala von 1 bis 5. |\n",
    "| LOR                 | Letter of Recommendation strength, on a scale of 1 to 5. | Stärke des Empfehlungsschreibens, auf einer Skala von 1 bis 5. |\n",
    "| CGPA                | Undergraduate Cumulative Grade Point Average, on a scale of 10. | Durchschnittsnote des Grundstudiums, auf einer Skala von 10. |\n",
    "| Research            | Whether the applicant has research experience (1 for yes, 0 for no). | Ob der Bewerber Forschungserfahrung hat (1 für ja, 0 für nein). |\n",
    "| Chance of Admit     | Likelihood of admission, on a scale from 0 to 1.   | Wahrscheinlichkeit der Zulassung, auf einer Skala von 0 bis 1. |\n"
   ]
  },
  {
   "cell_type": "code",
   "execution_count": null,
   "id": "ed439f97-3c5a-49ef-9c71-72a7b41483f8",
   "metadata": {},
   "outputs": [],
   "source": [
    "## 1. Import the necessary libraries (Importieren Sie die notwendigen Bibliotheken )"
   ]
  },
  {
   "cell_type": "code",
   "execution_count": null,
   "id": "b78ae7b0-f590-451d-98c7-a63a067e31ee",
   "metadata": {},
   "outputs": [],
   "source": []
  },
  {
   "cell_type": "code",
   "execution_count": null,
   "id": "6516c13a-fef5-49c7-aa15-0dc5352b575f",
   "metadata": {},
   "outputs": [],
   "source": [
    "### 2.Print first 5 row of the dataset (Geben Sie die ersten 10 Zeilen des Datensatzes aus.)\n"
   ]
  },
  {
   "cell_type": "code",
   "execution_count": null,
   "id": "304bf090-20e4-4f75-bec2-e67c45a16511",
   "metadata": {},
   "outputs": [],
   "source": [
    "### Activate the code to remove the spaces in the column names.\n",
    "## Aktivieren Sie den Code, um die Leerzeichen in den Spaltennamen zu entfernen\n",
    "df.columns = df.columns.str.lower().str.replace(' ', '')\n",
    "df.head()"
   ]
  },
  {
   "cell_type": "code",
   "execution_count": null,
   "id": "f1c2a78f-0d39-4de1-bfcc-4a35ffc207bb",
   "metadata": {},
   "outputs": [],
   "source": [
    "### 3 The target value is the 'Chance of Admit'. Please review the columns and analyze the type of information they contain.\n",
    "## Der Zielwert ist die 'Chance of Admit'. Bitte überprüfen Sie die Spalten und analysieren Sie, welche Art von Informationen sie enthalten."
   ]
  },
  {
   "cell_type": "code",
   "execution_count": null,
   "id": "1006879e-0420-4347-80f0-97eae5c6549f",
   "metadata": {},
   "outputs": [],
   "source": [
    "### 4 \"Which columns can you drop? Consider which columns contain information that is not useful.\n",
    "## Welche Spalten können Sie entfernen? Überlegen Sie, welche Spalten Informationen enthalten, die nicht nützlich sind"
   ]
  },
  {
   "cell_type": "code",
   "execution_count": null,
   "id": "8c8185e8-f61f-4ecf-b751-aa74c3baa469",
   "metadata": {},
   "outputs": [],
   "source": [
    "## Complete  the code \n",
    "df.drop ('?', axis=1 , inplace= True)"
   ]
  },
  {
   "cell_type": "code",
   "execution_count": null,
   "id": "b836dc63-838e-48fb-8079-a0d021ee30b3",
   "metadata": {},
   "outputs": [],
   "source": [
    "### 5 Examine the dataset for any duplicated or missing values (use check_df)\n",
    "### Untersuchen Sie den Datensatz auf doppelte oder fehlende Werte ( benuzt check_df )"
   ]
  },
  {
   "cell_type": "code",
   "execution_count": null,
   "id": "5c1f2fb8-b714-4535-a158-e5a94a303a19",
   "metadata": {},
   "outputs": [],
   "source": [
    "### 6 Check the data types of the columns and analyze them. (use check_df)\n",
    "## Überprüfen Sie die Datentypen der Spalten und analysieren Sie diese( benuzt check_df )"
   ]
  },
  {
   "cell_type": "code",
   "execution_count": null,
   "id": "bfc0299a-8f24-4287-88fa-d1148b60c224",
   "metadata": {},
   "outputs": [],
   "source": []
  },
  {
   "cell_type": "code",
   "execution_count": null,
   "id": "66fb7212-5773-4a8f-aa8d-103b28ef6653",
   "metadata": {},
   "outputs": [],
   "source": [
    "### 7. Activate this code and analyze the results. Pay attention to the mean, maximum, and minimum values of each column.\n",
    "## Aktivieren Sie diesen Code und analysieren Sie die Ergebnisse. Achten Sie auf die Durchschnitts-, Maximal- und Minimalwerte jeder Spalte.\"\n",
    "df.describe().T"
   ]
  },
  {
   "cell_type": "code",
   "execution_count": null,
   "id": "2f26d197-88f1-4159-b1ff-771d66e0a412",
   "metadata": {},
   "outputs": [],
   "source": []
  },
  {
   "cell_type": "code",
   "execution_count": null,
   "id": "f33b5630-e7d8-4b01-b899-73d8114cb92c",
   "metadata": {},
   "outputs": [],
   "source": [
    "###  8. Use the 'find_categorical_columns' function to find the categorical columns. (Refer to the cheat sheet for the code)\n",
    "### Verwende die Funktion 'find_categorical_columns', um die kategorischen Spalten zu finden (Beziehen Sie sich auf das Cheat Sheet für den Code.)"
   ]
  },
  {
   "cell_type": "code",
   "execution_count": null,
   "id": "08431bce-842d-4865-b7ef-de26e8899df5",
   "metadata": {},
   "outputs": [],
   "source": []
  },
  {
   "cell_type": "code",
   "execution_count": null,
   "id": "cba2979d-47b0-4768-9215-80d722bed830",
   "metadata": {},
   "outputs": [],
   "source": [
    "### 9.  Pause here and discuss in a group whether these columns should be treated as ordinal or nominal categorical values\n",
    "### Halten Sie hier an und diskutieren Sie in einer Gruppe, ob diese Spalten als ordinale oder nominale kategoriale Werte behandelt werden sollten"
   ]
  },
  {
   "cell_type": "code",
   "execution_count": null,
   "id": "e508ddd0-a833-4d61-9d69-f63e70146232",
   "metadata": {},
   "outputs": [],
   "source": [
    "### 10 .Use the 'find_binary_columns' function to identify the binary columns (Refer to the cheat sheet for the code.)\n",
    "### Verwenden Sie die Funktion 'find_binary_columns', um die binären Spalten zu identifizieren(Beziehen Sie sich auf das Cheat Sheet für den Code)"
   ]
  },
  {
   "cell_type": "code",
   "execution_count": null,
   "id": "f063e83c-e527-444c-a1f4-d9527fbe2b7f",
   "metadata": {},
   "outputs": [],
   "source": []
  },
  {
   "cell_type": "code",
   "execution_count": null,
   "id": "46e50fa0-398c-45b7-960d-b1e465656e04",
   "metadata": {},
   "outputs": [],
   "source": [
    "### 11. Select the numerical columns (Refer to the cheat sheet for the code.)\n",
    "## Die numerischen Spalten auswählen (Beziehen Sie sich auf das Cheat Sheet für den Code)"
   ]
  },
  {
   "cell_type": "code",
   "execution_count": null,
   "id": "9a6412c0-d80f-4d9d-b380-85eb16f1ab4b",
   "metadata": {},
   "outputs": [],
   "source": []
  },
  {
   "cell_type": "code",
   "execution_count": null,
   "id": "abbbeef3-63ac-4800-9ffd-93c9225ad3dc",
   "metadata": {},
   "outputs": [],
   "source": [
    "### 12.  Use the code below to analyze the distribution of columns.\n",
    "### . Verwenden Sie den untenstehenden Code, um die Verteilung  Spalten zu analysieren."
   ]
  },
  {
   "cell_type": "code",
   "execution_count": null,
   "id": "372ec951-dfe5-4282-8c87-2ccb8d1d7fb8",
   "metadata": {},
   "outputs": [],
   "source": [
    "plt.figure(figsize=(20, 15))\n",
    "for i, column in enumerate(df[numerical_columns+ categorical_columns].columns, 1):\n",
    "    plt.subplot(4, 3, i)\n",
    "    sns.histplot(df[column], kde=True, bins=10)\n",
    "    plt.title(column)\n",
    "plt.tight_layout()\n",
    "plt.show()"
   ]
  },
  {
   "cell_type": "code",
   "execution_count": null,
   "id": "ec0b29cf-76a4-4050-95fd-9b5a20fe972f",
   "metadata": {},
   "outputs": [],
   "source": [
    "### 13 .Decide which correlation method is better to use for numerical columns (method: {'pearson', 'kendall', 'spearman'}).\n",
    "### Entscheiden Sie, welche Korrelationsmethode für numerische Spalten besser zu verwenden ist (Methode: {'pearson', 'kendall', 'spearman'})."
   ]
  },
  {
   "cell_type": "code",
   "execution_count": null,
   "id": "e228434e-40cc-4b4e-985a-62366990d3b8",
   "metadata": {},
   "outputs": [],
   "source": []
  },
  {
   "cell_type": "markdown",
   "id": "72f53845-0c76-40d5-a735-08d1c95e4b97",
   "metadata": {},
   "source": [
    "### English:\n",
    "- Pearson Correlation Coefficient: Pearson's correlation measures the linear relationship between two continuous variables. It assumes that both variables are normally distributed and have a linear relationship.\n",
    "- Kendall Tau Correlation Coefficient: Kendall's tau is a non-parametric measure that assesses the ordinal association between two variables.\n",
    "- Spearman Rank Correlation: Spearman's correlation is another non-parametric measure (Not normal disttibution). It does not assume normal distribution.\n",
    "- Chi-square test for categorical variables, but it treats ordinal data as nominal (this is a limitation).\n",
    "### German:\n",
    "- Pearson-Korrelationskoeffizient: Die Pearson-Korrelation misst die lineare Beziehung zwischen zwei kontinuierlichen Variablen. Sie setzt voraus, dass beide Variablen normal verteilt sind und eine lineare Beziehung haben.\n",
    "- Kendall Tau Korrelationskoeffizient: Kendall's Tau ist ein nicht-parametrisches Maß, das die ordinale Assoziation zwischen zwei Variablen bewertet.\n",
    "- Spearman Rank Korrelation: Die Spearman-Korrelation ist ein weiteres nicht-parametrisches Maß. Es setzt keine Normalverteilung voraus.\n",
    "- Chi-Quadrat-Test für kategoriale Variablen, behandelt jedoch ordinale Daten als nominal (dies ist eine Einschränkung)."
   ]
  },
  {
   "cell_type": "code",
   "execution_count": null,
   "id": "b581530b-6300-4354-8431-b24b55aeeefd",
   "metadata": {},
   "outputs": [],
   "source": [
    "## 14 .Drop the columns that you believe have a high correlation.\n",
    "## Entfernen Sie die Spalten, von denen Sie glauben, dass sie eine hohe Korrelation aufweisen."
   ]
  },
  {
   "cell_type": "markdown",
   "id": "ce83342f-4367-401f-b878-2262300da7eb",
   "metadata": {},
   "source": [
    "# Part 2 "
   ]
  },
  {
   "cell_type": "code",
   "execution_count": null,
   "id": "646532fc-57b7-43bf-97cc-9374d5b63e81",
   "metadata": {},
   "outputs": [],
   "source": [
    "### 2. Split the data into four pieces: train_x, test_x, train_y, and test_y . (The target value is the 'Chance of Admit')\n",
    "## Teilen Sie die Daten in vier Teile auf: train_x, test_x, train_y und test_y. ('Der Zielwert ist die 'Chance of Admit')"
   ]
  },
  {
   "cell_type": "code",
   "execution_count": null,
   "id": "aa048c1e-9918-4b3a-9f53-5eb8362a12b9",
   "metadata": {},
   "outputs": [],
   "source": [
    "from sklearn.model_selection import train_test_split\n",
    "X = df.drop('', axis=1)\n",
    "y = df[['']]"
   ]
  },
  {
   "cell_type": "code",
   "execution_count": null,
   "id": "9a962a03-3f1e-4eae-a691-2b7f13a169da",
   "metadata": {},
   "outputs": [],
   "source": []
  },
  {
   "cell_type": "markdown",
   "id": "6eca118a-c82c-45c2-9284-c8956f1487a9",
   "metadata": {},
   "source": [
    "# Part 3"
   ]
  },
  {
   "cell_type": "code",
   "execution_count": null,
   "id": "63ee5be3-667a-4e81-a01a-0ffe71fcceeb",
   "metadata": {},
   "outputs": [],
   "source": [
    "### 1. Evaluate and score the model using the training datase\n",
    "##Bewerten und beurteilen Sie das Modell anhand des Trainingsdatensatzes"
   ]
  },
  {
   "cell_type": "code",
   "execution_count": null,
   "id": "e83917f4-4d64-4c40-acc7-40f41777107b",
   "metadata": {},
   "outputs": [],
   "source": [
    "from sklearn.metrics import mean_squared_error, mean_absolute_error, r2_score\n",
    "y_pred_train = model.predict(X_train)"
   ]
  },
  {
   "cell_type": "code",
   "execution_count": null,
   "id": "84a4a318-3959-424d-9d44-74f69efe555b",
   "metadata": {},
   "outputs": [],
   "source": []
  },
  {
   "cell_type": "code",
   "execution_count": null,
   "id": "bf7d980e-2049-4be9-af40-fb2cf226dd29",
   "metadata": {},
   "outputs": [],
   "source": [
    "print(\"R-squared:\", r_squared)\n",
    "print(\"Mean Absolute Percentage Error (MAPE):\", mape, \"%\")\n",
    "print(\"Mean Squared Error:\", mse)\n",
    "print(\"Root Mean Squared Error:\", rmse)\n",
    "print(\"Mean Absolute Error:\", mae)"
   ]
  },
  {
   "cell_type": "code",
   "execution_count": null,
   "id": "2a0f6595-77a6-4cd6-8e00-fc9cbbf5e135",
   "metadata": {},
   "outputs": [],
   "source": [
    "### 2. Evaluate and score the model using the test dataset\n",
    "### Bewerten und beurteilen Sie das Modell anhand des Testdatensatzes"
   ]
  },
  {
   "cell_type": "code",
   "execution_count": null,
   "id": "dc0aa0e9-e92d-48a3-85d7-0611bce1f414",
   "metadata": {},
   "outputs": [],
   "source": [
    "y_pred_test = model.predict(X_test)"
   ]
  },
  {
   "cell_type": "code",
   "execution_count": null,
   "id": "d615d944-7dc1-4bff-834f-80e18e722c45",
   "metadata": {},
   "outputs": [],
   "source": []
  },
  {
   "cell_type": "code",
   "execution_count": null,
   "id": "2194a7e0-7206-48b5-9bff-259230b62c75",
   "metadata": {},
   "outputs": [],
   "source": [
    "print(\"R-squared:\", r_squared)\n",
    "print(\"Mean Absolute Percentage Error (MAPE):\", mape, \"%\")\n",
    "print(\"Mean Squared Error:\", mse)\n",
    "print(\"Root Mean Squared Error:\", rmse)\n",
    "print(\"Mean Absolute Error:\", mae)"
   ]
  },
  {
   "cell_type": "code",
   "execution_count": null,
   "id": "b9729305-b400-4fc7-b52d-5ecfbf5ff3f7",
   "metadata": {},
   "outputs": [],
   "source": [
    "## 3. Discuss in the group what more can be done to improve the model's performance\n",
    "## Diskutieren Sie in der Gruppe, was noch getan werden kann, um die Leistung des Modells zu verbessern"
   ]
  }
 ],
 "metadata": {
  "kernelspec": {
   "display_name": "Python 3 (ipykernel)",
   "language": "python",
   "name": "python3"
  },
  "language_info": {
   "codemirror_mode": {
    "name": "ipython",
    "version": 3
   },
   "file_extension": ".py",
   "mimetype": "text/x-python",
   "name": "python",
   "nbconvert_exporter": "python",
   "pygments_lexer": "ipython3",
   "version": "3.11.5"
  }
 },
 "nbformat": 4,
 "nbformat_minor": 5
}
