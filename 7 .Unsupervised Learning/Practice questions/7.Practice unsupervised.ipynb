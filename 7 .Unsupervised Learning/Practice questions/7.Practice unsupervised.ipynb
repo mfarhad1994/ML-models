{
 "cells": [
  {
   "cell_type": "markdown",
   "id": "cd3a5bd1-8a8b-4caf-8bc0-1a989b2c456e",
   "metadata": {},
   "source": [
    "# Part 1 "
   ]
  },
  {
   "cell_type": "code",
   "execution_count": 1,
   "id": "f4ecea4b-16c2-481e-868c-e895fd819f95",
   "metadata": {},
   "outputs": [],
   "source": [
    "## 1. Import the necessary libraries (Importieren Sie die notwendigen Bibliotheken )\n",
    "from mymodule import check_df, find_categorical_columns, binary_columns_find, find_outlier_columns\n",
    "from sklearn.preprocessing import StandardScaler\n",
    "from sklearn.cluster import KMeans \n",
    "from sklearn.metrics import homogeneity_score, completeness_score, \\\n",
    "v_measure_score, adjusted_rand_score, adjusted_mutual_info_score, silhouette_score\n",
    "%matplotlib inline\n",
    "import pandas as pd\n",
    "import seaborn as sns\n",
    "from yellowbrick.cluster import KElbowVisualizer\n",
    "\n",
    "import matplotlib.pyplot as plt"
   ]
  },
  {
   "cell_type": "code",
   "execution_count": 2,
   "id": "48a7268b-92a0-4689-9065-561c4123ef29",
   "metadata": {},
   "outputs": [],
   "source": [
    "### Disable the Python warnings\n",
    "### Deaktivieren Sie die Python-Warnungen\n",
    "import warnings\n",
    "warnings.filterwarnings('ignore')"
   ]
  },
  {
   "cell_type": "code",
   "execution_count": 3,
   "id": "02b67c71-1c05-4332-9575-3d5bc68c6699",
   "metadata": {},
   "outputs": [],
   "source": [
    "### 2.Print first 5 row of the dataset (Geben Sie die ersten 10 Zeilen des Datensatzes aus.)\n",
    "\n"
   ]
  },
  {
   "cell_type": "code",
   "execution_count": 4,
   "id": "abe0d4a1-e6ec-40b1-a77b-a3623cdccd84",
   "metadata": {},
   "outputs": [],
   "source": [
    "## use check_df funtion to analyse the dataframe  "
   ]
  },
  {
   "cell_type": "code",
   "execution_count": null,
   "id": "a8c85ffb-04c0-4562-8387-30fb35a57caa",
   "metadata": {},
   "outputs": [],
   "source": []
  },
  {
   "cell_type": "code",
   "execution_count": 5,
   "id": "f176c3ac-53ee-4bb6-ad2e-d0e4f1367335",
   "metadata": {},
   "outputs": [],
   "source": [
    "### Check for outliers using a box plot.\n",
    "### Überprüfe auf Ausreißer mit einem Boxplot."
   ]
  },
  {
   "cell_type": "code",
   "execution_count": 6,
   "id": "3d9846e4-4ec6-405a-8b6d-b35858383838",
   "metadata": {},
   "outputs": [
    {
     "ename": "NameError",
     "evalue": "name 'df' is not defined",
     "output_type": "error",
     "traceback": [
      "\u001b[1;31m---------------------------------------------------------------------------\u001b[0m",
      "\u001b[1;31mNameError\u001b[0m                                 Traceback (most recent call last)",
      "Cell \u001b[1;32mIn[6], line 2\u001b[0m\n\u001b[0;32m      1\u001b[0m plt\u001b[38;5;241m.\u001b[39mfigure(figsize\u001b[38;5;241m=\u001b[39m(\u001b[38;5;241m20\u001b[39m, \u001b[38;5;241m10\u001b[39m)) \n\u001b[1;32m----> 2\u001b[0m \u001b[38;5;28;01mfor\u001b[39;00m index, column \u001b[38;5;129;01min\u001b[39;00m \u001b[38;5;28menumerate\u001b[39m(\u001b[43mdf\u001b[49m):\n\u001b[0;32m      3\u001b[0m     plt\u001b[38;5;241m.\u001b[39msubplot(\u001b[38;5;241m4\u001b[39m, \u001b[38;5;241m4\u001b[39m, index \u001b[38;5;241m+\u001b[39m \u001b[38;5;241m1\u001b[39m)  \n\u001b[0;32m      4\u001b[0m     sns\u001b[38;5;241m.\u001b[39mboxplot(x\u001b[38;5;241m=\u001b[39mcolumn, data\u001b[38;5;241m=\u001b[39mdf)\n",
      "\u001b[1;31mNameError\u001b[0m: name 'df' is not defined"
     ]
    },
    {
     "data": {
      "text/plain": [
       "<Figure size 2000x1000 with 0 Axes>"
      ]
     },
     "metadata": {},
     "output_type": "display_data"
    }
   ],
   "source": [
    "plt.figure(figsize=(20, 10)) \n",
    "for index, column in enumerate(df):\n",
    "    plt.subplot(4, 4, index + 1)  \n",
    "    sns.boxplot(x=column, data=df)\n",
    "plt.tight_layout() \n",
    "plt.show()"
   ]
  },
  {
   "cell_type": "code",
   "execution_count": null,
   "id": "1874feb1-99a8-478c-bc6f-f6ad40a42eb6",
   "metadata": {},
   "outputs": [],
   "source": [
    "### Check whether there are outliers with 0.01 and 0.99 parameters; if there are, replace them with the lower_limit and max_limit\n",
    "### Überprüfe, ob es Ausreißer mit den Parametern 0,01 und 0,99 gibt; falls ja, ersetze sie durch das untere Limit und das obere Limit"
   ]
  },
  {
   "cell_type": "code",
   "execution_count": null,
   "id": "057b7f5a-91be-4339-b200-078f468a360e",
   "metadata": {},
   "outputs": [],
   "source": []
  },
  {
   "cell_type": "code",
   "execution_count": null,
   "id": "a21ff712-52b8-46c8-bb82-eb5ed3beaf6d",
   "metadata": {},
   "outputs": [],
   "source": [
    "### Use the StandardScaler to scale the dataset\n",
    "### Verwende den StandardScaler, um das Dataset zu skalieren"
   ]
  },
  {
   "cell_type": "code",
   "execution_count": null,
   "id": "1a0ef973-5fb9-4ee1-be68-c2f75908a04b",
   "metadata": {},
   "outputs": [],
   "source": []
  },
  {
   "cell_type": "markdown",
   "id": "91681e47-670c-49e4-8655-6549ecfeb94c",
   "metadata": {},
   "source": [
    "## K means model "
   ]
  },
  {
   "cell_type": "code",
   "execution_count": null,
   "id": "14167f72-4293-4c8b-8c0b-d7a0bea0b286",
   "metadata": {},
   "outputs": [],
   "source": [
    "## Activate the code below to analyze the number of clusters.\n",
    "## Aktiviere den untenstehenden Code, um die Anzahl der Cluster zu analysieren"
   ]
  },
  {
   "cell_type": "code",
   "execution_count": null,
   "id": "948e5f25-5665-4f84-bf3c-c723592bacb0",
   "metadata": {},
   "outputs": [],
   "source": [
    "from sklearn.cluster import KMeans\n",
    "wcss = []\n",
    "for i in range(1, 11):\n",
    "    kmeans = KMeans(n_clusters = i, init = 'k-means++', max_iter = 10000, random_state = 0)\n",
    "    kmeans.fit(df)\n",
    "    wcss.append(kmeans.inertia_)\n",
    "plt.figure(figsize=(10, 10))\n",
    "plt.plot(range(1, 11), wcss)\n",
    "plt.title('The elbow method')\n",
    "plt.xlabel('Number of clusters')\n",
    "plt.ylabel('WCSS') \n",
    "plt.show()\n"
   ]
  },
  {
   "cell_type": "code",
   "execution_count": null,
   "id": "ee7f2d50-a947-4557-8677-208a18114541",
   "metadata": {},
   "outputs": [],
   "source": [
    "## Use KElbowVisualizer to find the optimum number of clusters\n",
    "## Verwende KElbowVisualizer, um die optimale Anzahl von Clustern zu finden"
   ]
  },
  {
   "cell_type": "code",
   "execution_count": null,
   "id": "4343adf8-3187-4844-996d-47697f1e7434",
   "metadata": {},
   "outputs": [],
   "source": []
  },
  {
   "cell_type": "code",
   "execution_count": null,
   "id": "42c06a4f-4021-416c-b498-ee1b4a9fd07b",
   "metadata": {},
   "outputs": [],
   "source": [
    "elbow.elbow_value_"
   ]
  },
  {
   "cell_type": "code",
   "execution_count": null,
   "id": "5330bd21-cdc2-4985-aaf0-58deeaec4231",
   "metadata": {},
   "outputs": [],
   "source": [
    "## Train the model at the optimum number of clusters by activating the code below\n",
    "## Trainiere das Modell bei der optimalen Anzahl von Clustern, indem du den untenstehenden Code aktivierst\n",
    "\n",
    "kmeans = KMeans(n_clusters = elbow.elbow_value_, max_iter = 1000, random_state = 0)\n",
    "kmeans.fit(df)"
   ]
  },
  {
   "cell_type": "code",
   "execution_count": null,
   "id": "8e32e569-696b-4955-b02f-f5d7a0cf76d2",
   "metadata": {},
   "outputs": [],
   "source": [
    "## Call the dataframe again and add the cluster column to df\n",
    "## Rufe das DataFrame erneut auf und füge die Cluster-Spalte zu df hinzu"
   ]
  },
  {
   "cell_type": "code",
   "execution_count": null,
   "id": "0d337e60-f115-433d-aad5-30f9bd8a89a8",
   "metadata": {},
   "outputs": [],
   "source": []
  },
  {
   "cell_type": "code",
   "execution_count": null,
   "id": "1bab3ca4-f307-449e-8561-624d1c8cb6a8",
   "metadata": {},
   "outputs": [],
   "source": [
    "## Activate the code below and analyze the result.\n",
    "### Aktiviere den untenstehenden Code und analysiere das Ergebnis\n",
    "df.groupby(\"clusters\").agg([\"count\",\"mean\",\"median\"])"
   ]
  },
  {
   "cell_type": "code",
   "execution_count": null,
   "id": "29c115dd-67b2-40de-bfd7-1e9ccb6cde68",
   "metadata": {},
   "outputs": [],
   "source": [
    "## Cluster the cluster difference, what should the cluster names be?\n",
    "## Gruppiere den Unterschied zwischen den Clustern, wie sollten die Clusternamen sein?"
   ]
  }
 ],
 "metadata": {
  "kernelspec": {
   "display_name": "Python 3 (ipykernel)",
   "language": "python",
   "name": "python3"
  },
  "language_info": {
   "codemirror_mode": {
    "name": "ipython",
    "version": 3
   },
   "file_extension": ".py",
   "mimetype": "text/x-python",
   "name": "python",
   "nbconvert_exporter": "python",
   "pygments_lexer": "ipython3",
   "version": "3.11.5"
  }
 },
 "nbformat": 4,
 "nbformat_minor": 5
}
